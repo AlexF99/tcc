{
 "cells": [
  {
   "cell_type": "code",
   "execution_count": 32,
   "metadata": {},
   "outputs": [],
   "source": [
    "from profiler.core import *"
   ]
  },
  {
   "cell_type": "code",
   "execution_count": 33,
   "metadata": {},
   "outputs": [],
   "source": [
    "\n",
    "datasets_base_path = \"../datasets/experiments_header/\"\n",
    "dataset_name=\"abalone\"\n",
    "dataset_path = datasets_base_path + dataset_name + \".csv\"\n",
    "\n",
    "# dataset_path='data/hospital_clean_unflatten.csv'\n",
    "# dataset_path='experiments/exp1/experiment1_isf_high_dim.csv'\n",
    "# dataset_path='aledata/iris.csv'\n",
    "# dataset_path='../datasets/ncvoter_header.csv'\n",
    "# dataset_path='aledata/Queens_Library_Branches_20250211.csv'\n",
    "# dataset_path='aledata/nursery.csv'"
   ]
  },
  {
   "cell_type": "code",
   "execution_count": 34,
   "metadata": {},
   "outputs": [],
   "source": [
    "pf = Profiler(workers=1, tol=1e-6, eps=0.05, embedtxt=True)"
   ]
  },
  {
   "cell_type": "code",
   "execution_count": 35,
   "metadata": {},
   "outputs": [
    {
     "name": "stderr",
     "output_type": "stream",
     "text": [
      "INFO:profiler.utility:[0.00429987907409668] Load Data start\n",
      "\n",
      "INFO:profiler.data.dataset:parameters used for data loading:\n",
      " {'na_values': 'empty', 'sep': ',', 'header': 'infer', 'dropcol': None, 'dropna': False, 'encoding': 'utf-8', 'normalize': True, 'min_categories_for_embedding': 10}\n",
      "INFO:profiler.data.dataset:inferred types of attributes: {\n",
      "    \"c1\": \"categorical\",\n",
      "    \"c2\": \"numeric\",\n",
      "    \"c3\": \"numeric\",\n",
      "    \"c4\": \"numeric\",\n",
      "    \"c5\": \"numeric\",\n",
      "    \"c6\": \"numeric\",\n",
      "    \"c7\": \"numeric\",\n",
      "    \"c8\": \"numeric\",\n",
      "    \"c9\": \"numeric\"\n",
      "}\n",
      "INFO:profiler.data.dataset:(possible types: numeric, categorical, text, date)\n",
      "INFO:profiler.data.dataset:inferred operators of attributes: {'c1': ['equal'], 'c2': ['equal'], 'c3': ['equal'], 'c4': ['equal'], 'c5': ['equal'], 'c6': ['equal'], 'c7': ['equal'], 'c8': ['equal'], 'c9': ['equal']}\n",
      "INFO:profiler.data.dataset:(possible operators: equal, notequal, greater_than, less_than)\n",
      "INFO:profiler.utility:[0.020509719848632812] Load Data execution time: 0.016209840774536133\n",
      "\n"
     ]
    }
   ],
   "source": [
    "pf.session.load_data(name='customer', src=FILE, fpath=dataset_path, check_param=True, na_values='empty')"
   ]
  },
  {
   "cell_type": "code",
   "execution_count": 36,
   "metadata": {},
   "outputs": [],
   "source": [
    "# we could change the inferred/found types by running the following:\n",
    "\n",
    "# pf.session.change_dtypes([\"voter_id\",\"voter_reg_num\",\"name_prefix\",\"first_name\",\"middle_name\",\"last_name\",\"name_suffix\",\"age\",\"gender\",\"race\",\"ethnic\",\"street_address\",\"city\",\"state\",\"zip_code\",\"full_phone_num\",\"birth_place\",\"register_date\",\"download_month\"], \n",
    "#                             [CATEGORICAL, CATEGORICAL, CATEGORICAL, CATEGORICAL, CATEGORICAL, CATEGORICAL, CATEGORICAL, CATEGORICAL, CATEGORICAL, CATEGORICAL, CATEGORICAL, CATEGORICAL, CATEGORICAL, CATEGORICAL, CATEGORICAL, CATEGORICAL, CATEGORICAL, CATEGORICAL])\n",
    "\n",
    "# pf.session.change_dtypes(['download_month', 'birth_place', 'zip_code', 'city'], [TEXT, CATEGORICAL, TEXT, CATEGORICAL])\n",
    "# pf.session.change_dtypes(['zip_code'], [TEXT])\n",
    "\n",
    "# pf.session.change_dtypes(['e'], [TEXT])"
   ]
  },
  {
   "cell_type": "code",
   "execution_count": 37,
   "metadata": {},
   "outputs": [
    {
     "name": "stderr",
     "output_type": "stream",
     "text": [
      "INFO:profiler.utility:[0.028398990631103516] Load Embedding start\n",
      "\n",
      "INFO:profiler.utility:[0.029293537139892578] Load Embedding execution time: 0.0008945465087890625\n",
      "\n"
     ]
    }
   ],
   "source": [
    "pf.session.load_embedding(save=True, path='data/', load=False)"
   ]
  },
  {
   "cell_type": "code",
   "execution_count": 38,
   "metadata": {},
   "outputs": [
    {
     "name": "stderr",
     "output_type": "stream",
     "text": [
      "INFO:profiler.utility:[0.034030914306640625] Create Training Data start\n",
      "\n",
      "INFO:profiler.data.transformer:needs multiplier = 1 to bound the error in inv cov estimation <= 0.05000000\n",
      "INFO:profiler.data.transformer:use multiplier = 1, and the bound is 0.00153295\n",
      "INFO:profiler.data.transformer:Using multiplier 5\n",
      "INFO:profiler.data.transformer:Draw Pairs\n",
      "100%|██████████| 9/9 [00:00<00:00, 859.98it/s]\n",
      "INFO:profiler.data.transformer:Number of training samples: 37593\n",
      "INFO:profiler.data.transformer:Computing Differences\n",
      "INFO:profiler.data.transformer:estimated missing data probability in training data is 0.0000\n",
      "INFO:profiler.utility:[0.08742547035217285] Create Training Data execution time: 0.05339455604553223\n",
      "\n"
     ]
    }
   ],
   "source": [
    "# load traning data\n",
    "\n",
    "pf.session.load_training_data(multiplier = None, difference=True)"
   ]
  },
  {
   "cell_type": "code",
   "execution_count": 39,
   "metadata": {},
   "outputs": [
    {
     "name": "stderr",
     "output_type": "stream",
     "text": [
      "INFO:profiler.utility:[0.09267973899841309] Learn Structure start\n",
      "\n",
      "INFO:profiler.learner:use threshold 0.2767\n",
      "INFO:profiler.utility:[0.1419210433959961] Learn Structure execution time: 0.04924130439758301\n",
      "\n"
     ]
    }
   ],
   "source": [
    "autoregress_matrix = pf.session.learn_structure(sparsity=0, infer_order=True)"
   ]
  },
  {
   "cell_type": "code",
   "execution_count": 40,
   "metadata": {},
   "outputs": [
    {
     "name": "stderr",
     "output_type": "stream",
     "text": [
      "INFO:profiler.utility:[0.14806413650512695] Get Dependencies start\n",
      "\n",
      "INFO:profiler.utility:[0.1693565845489502] Get Dependencies execution time: 0.021292448043823242\n",
      "\n"
     ]
    },
    {
     "name": "stdout",
     "output_type": "stream",
     "text": [
      "c6 -> c1 (0.3012358706630512)\n",
      "c6,c1 -> c2 (0.1295436092004036)\n",
      "c6,c1,c2 -> c4 (0.12794461096764156)\n",
      "c6,c1,c2,c4 -> c5 (0.0791507168343682)\n",
      "c6,c1,c2,c4,c5 -> c7 (0.11021342988088913)\n",
      "c6,c1,c2,c4,c5,c7 -> c8 (0.10645058189913285)\n",
      "c6,c1,c4,c7,c8 -> c9 (0.18107115435437154)\n",
      "c6,c1,c2,c4,c5,c8 -> c3 (0.06832805046788208)\n",
      "{'c6': array([], dtype=object), 'c1': array(['c6'], dtype=object), 'c2': array(['c6', 'c1'], dtype=object), 'c4': array(['c6', 'c1', 'c2'], dtype=object), 'c5': array(['c6', 'c1', 'c2', 'c4'], dtype=object), 'c7': array(['c6', 'c1', 'c2', 'c4', 'c5'], dtype=object), 'c8': array(['c6', 'c1', 'c2', 'c4', 'c5', 'c7'], dtype=object), 'c9': array(['c6', 'c1', 'c4', 'c7', 'c8'], dtype=object), 'c3': array(['c6', 'c1', 'c2', 'c4', 'c5', 'c8'], dtype=object)}\n"
     ]
    }
   ],
   "source": [
    "\n",
    "output_path = \"./results/\" + dataset_name\n",
    "parent_sets = pf.session.get_dependencies(score=\"fit_error\", write_to=output_path)"
   ]
  },
  {
   "cell_type": "code",
   "execution_count": 41,
   "metadata": {},
   "outputs": [],
   "source": [
    "# pf.session.visualize_covariance()"
   ]
  },
  {
   "cell_type": "code",
   "execution_count": 42,
   "metadata": {},
   "outputs": [],
   "source": [
    "# pf.session.visualize_autoregression()"
   ]
  },
  {
   "cell_type": "code",
   "execution_count": 43,
   "metadata": {},
   "outputs": [],
   "source": [
    "# pf.session.timer.get_stat()"
   ]
  },
  {
   "cell_type": "code",
   "execution_count": 44,
   "metadata": {},
   "outputs": [],
   "source": [
    "# pf.session.timer.to_csv()\n"
   ]
  }
 ],
 "metadata": {
  "kernelspec": {
   "display_name": "base",
   "language": "python",
   "name": "python3"
  },
  "language_info": {
   "codemirror_mode": {
    "name": "ipython",
    "version": 3
   },
   "file_extension": ".py",
   "mimetype": "text/x-python",
   "name": "python",
   "nbconvert_exporter": "python",
   "pygments_lexer": "ipython3",
   "version": "3.12.2"
  }
 },
 "nbformat": 4,
 "nbformat_minor": 2
}
