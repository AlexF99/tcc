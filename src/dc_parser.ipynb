{
 "cells": [
  {
   "cell_type": "code",
   "execution_count": 2,
   "metadata": {},
   "outputs": [],
   "source": [
    "import json\n",
    "\n",
    "shuffled_results = []\n",
    "clean_results = []\n",
    "\n",
    "with open(\n",
    "    \"../results/results_/dcfinder-1.2-SNAPSHOT.jar2024-11-09T162242_dcs\", \"r\"\n",
    ") as file:\n",
    "    for line in file:\n",
    "        shuffled_results.append(json.loads(line.strip()))\n",
    "\n",
    "with open(\n",
    "    \"../results/results_/dcfinder-1.2-SNAPSHOT.jar2024-11-09T161729_dcs\", \"r\"\n",
    ") as file:\n",
    "    for line in file:\n",
    "        clean_results.append(json.loads(line.strip()))"
   ]
  },
  {
   "cell_type": "code",
   "execution_count": 3,
   "metadata": {},
   "outputs": [],
   "source": [
    "def get_dc_set(results):\n",
    "    dcset = set()\n",
    "    for dc in results:\n",
    "        pred_set = set()\n",
    "        for predicate in dc[\"predicates\"]:\n",
    "            pred_set.add(\n",
    "                predicate[\"column1\"][\"columnIdentifier\"]\n",
    "                + \", \"\n",
    "                + predicate[\"op\"]\n",
    "                + \", \"\n",
    "                + predicate[\"column2\"][\"columnIdentifier\"],\n",
    "            )\n",
    "        dcset.add(frozenset(pred_set))\n",
    "    return dcset"
   ]
  },
  {
   "cell_type": "code",
   "execution_count": 4,
   "metadata": {},
   "outputs": [
    {
     "data": {
      "text/plain": [
       "13876"
      ]
     },
     "execution_count": 4,
     "metadata": {},
     "output_type": "execute_result"
    }
   ],
   "source": [
    "clean_set = get_dc_set(clean_results)\n",
    "dirty_set = get_dc_set(shuffled_results)\n",
    "\n",
    "len(clean_set - dirty_set)"
   ]
  },
  {
   "cell_type": "code",
   "execution_count": 7,
   "metadata": {},
   "outputs": [
    {
     "data": {
      "text/plain": [
       "15257"
      ]
     },
     "execution_count": 7,
     "metadata": {},
     "output_type": "execute_result"
    }
   ],
   "source": [
    "len(dirty_set)"
   ]
  },
  {
   "cell_type": "code",
   "execution_count": 6,
   "metadata": {},
   "outputs": [
    {
     "data": {
      "text/plain": [
       "14237"
      ]
     },
     "execution_count": 6,
     "metadata": {},
     "output_type": "execute_result"
    }
   ],
   "source": [
    "len(clean_set)\n"
   ]
  }
 ],
 "metadata": {
  "kernelspec": {
   "display_name": "base",
   "language": "python",
   "name": "python3"
  },
  "language_info": {
   "codemirror_mode": {
    "name": "ipython",
    "version": 3
   },
   "file_extension": ".py",
   "mimetype": "text/x-python",
   "name": "python",
   "nbconvert_exporter": "python",
   "pygments_lexer": "ipython3",
   "version": "3.12.7"
  }
 },
 "nbformat": 4,
 "nbformat_minor": 2
}
