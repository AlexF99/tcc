{
 "cells": [
  {
   "cell_type": "code",
   "execution_count": 11,
   "metadata": {},
   "outputs": [],
   "source": [
    "import json\n",
    "\n",
    "def parse_nycdeaths_dc(dc_file_content):\n",
    "    \"\"\"Parse NYC deaths format denial constraints from file content.\"\"\"\n",
    "    dcs = []\n",
    "    \n",
    "    # Split into lines and filter out empty ones\n",
    "    lines = [line.strip() for line in dc_file_content.split('\\n') if line.strip()]\n",
    "    \n",
    "    for line in lines:\n",
    "        # Remove the \"not\" prefix and parentheses\n",
    "        if line.startswith('not('):\n",
    "            line = line[4:-1]  # Remove 'not(' and trailing ')'\n",
    "        \n",
    "        # Split into individual predicates\n",
    "        predicates = line.split(' and ')\n",
    "        dc_predicates = []\n",
    "        \n",
    "        for pred in predicates:\n",
    "            # Split predicate into components\n",
    "            parts = pred.split('==')\n",
    "            if len(parts) == 2:\n",
    "                op = 'EQUAL'\n",
    "            else:\n",
    "                parts = pred.split('<>')\n",
    "                if len(parts) == 2:\n",
    "                    op = 'UNEQUAL'\n",
    "                else:\n",
    "                    parts = pred.split('<=')\n",
    "                    if len(parts) == 2:\n",
    "                        op = 'LESS_EQUAL'\n",
    "                    else:\n",
    "                        parts = pred.split('>=')\n",
    "                        if len(parts) == 2:\n",
    "                            op = 'GREATER_EQUAL'\n",
    "                        else:\n",
    "                            parts = pred.split('<')\n",
    "                            if len(parts) == 2:\n",
    "                                op = 'LESS'\n",
    "                            else:\n",
    "                                parts = pred.split('>')\n",
    "                                if len(parts) == 2:\n",
    "                                    op = 'GREATER'\n",
    "                                else:\n",
    "                                    continue  # Skip invalid predicates\n",
    "    \n",
    "    return dcs\n"
   ]
  },
  {
   "cell_type": "code",
   "execution_count": 12,
   "metadata": {},
   "outputs": [],
   "source": [
    "def get_dc_set(dcs):\n",
    "    \"\"\"Convert list of DCs into a set of frozensets of predicates for comparison.\"\"\"\n",
    "    dcset = set()\n",
    "    for dc in dcs:\n",
    "        pred_set = set()\n",
    "        for predicate in dc[\"predicates\"]:\n",
    "            pred_set.add(\n",
    "                predicate[\"column1\"][\"columnIdentifier\"]\n",
    "                + \", \"\n",
    "                + predicate[\"op\"]\n",
    "                + \", \"\n",
    "                + predicate[\"column2\"][\"columnIdentifier\"]\n",
    "            )\n",
    "        dcset.add(frozenset(pred_set))\n",
    "    return dcset"
   ]
  },
  {
   "cell_type": "code",
   "execution_count": 14,
   "metadata": {},
   "outputs": [
    {
     "name": "stdout",
     "output_type": "stream",
     "text": [
      "{frozenset({'sex, EQUAL, sex', 'deathrate, GREATER, deathrate', 'raceethnicity, EQUAL, raceethnicity', 'ageadjusteddeathrate, EQUAL, ageadjusteddeathrate', 'deaths, LESS, deaths', 'leadingcause, UNEQUAL, leadingcause'}), frozenset({'deathrate, GREATER, deathrate', 'ageadjusteddeathrate, LESS, ageadjusteddeathrate', 'leadingcause, EQUAL, leadingcause', 'deaths, EQUAL, deaths', 'sex, UNEQUAL, sex'}), frozenset({'deathrate, EQUAL, deathrate', 'raceethnicity, EQUAL, raceethnicity', 'leadingcause, EQUAL, leadingcause', 'ageadjusteddeathrate, GREATER, ageadjusteddeathrate', 'year, EQUAL, year'}), frozenset({'deathrate, EQUAL, deathrate', 'ageadjusteddeathrate, LESS, ageadjusteddeathrate', 'leadingcause, EQUAL, leadingcause', 'year, EQUAL, year', 'sex, UNEQUAL, sex', 'deaths, LESS, deaths'}), frozenset({'deathrate, EQUAL, deathrate', 'raceethnicity, EQUAL, raceethnicity', 'leadingcause, EQUAL, leadingcause', 'ageadjusteddeathrate, UNEQUAL, ageadjusteddeathrate', 'year, EQUAL, year'}), frozenset({'deathrate, EQUAL, deathrate', 'leadingcause, EQUAL, leadingcause', 'raceethnicity, UNEQUAL, raceethnicity', 'ageadjusteddeathrate, GREATER, ageadjusteddeathrate', 'sex, UNEQUAL, sex', 'deaths, GREATER_EQUAL, deaths'}), frozenset({'deathrate, LESS, deathrate', 'raceethnicity, EQUAL, raceethnicity', 'leadingcause, EQUAL, leadingcause', 'ageadjusteddeathrate, GREATER, ageadjusteddeathrate', 'year, EQUAL, year', 'deaths, GREATER_EQUAL, deaths'}), frozenset({'deathrate, GREATER, deathrate', 'leadingcause, EQUAL, leadingcause', 'ageadjusteddeathrate, EQUAL, ageadjusteddeathrate', 'sex, UNEQUAL, sex', 'deaths, LESS_EQUAL, deaths'}), frozenset({'deathrate, EQUAL, deathrate', 'ageadjusteddeathrate, LESS, ageadjusteddeathrate', 'leadingcause, EQUAL, leadingcause', 'raceethnicity, UNEQUAL, raceethnicity', 'sex, UNEQUAL, sex', 'deaths, LESS_EQUAL, deaths'}), frozenset({'deathrate, LESS, deathrate', 'raceethnicity, EQUAL, raceethnicity', 'leadingcause, EQUAL, leadingcause', 'year, EQUAL, year', 'deaths, GREATER_EQUAL, deaths', 'ageadjusteddeathrate, GREATER_EQUAL, ageadjusteddeathrate'}), frozenset({'ageadjusteddeathrate, GREATER, ageadjusteddeathrate', 'raceethnicity, EQUAL, raceethnicity', 'leadingcause, EQUAL, leadingcause', 'year, EQUAL, year', 'deathrate, LESS_EQUAL, deathrate', 'deaths, GREATER, deaths'}), frozenset({'deathrate, LESS, deathrate', 'raceethnicity, EQUAL, raceethnicity', 'leadingcause, EQUAL, leadingcause', 'ageadjusteddeathrate, EQUAL, ageadjusteddeathrate', 'year, EQUAL, year'}), frozenset({'sex, UNEQUAL, sex', 'deathrate, EQUAL, deathrate', 'deaths, EQUAL, deaths', 'ageadjusteddeathrate, GREATER, ageadjusteddeathrate'}), frozenset({'deathrate, GREATER, deathrate', 'leadingcause, EQUAL, leadingcause', 'raceethnicity, UNEQUAL, raceethnicity', 'deaths, EQUAL, deaths', 'year, UNEQUAL, year', 'ageadjusteddeathrate, LESS_EQUAL, ageadjusteddeathrate'}), frozenset({'deathrate, GREATER, deathrate', 'raceethnicity, EQUAL, raceethnicity', 'leadingcause, EQUAL, leadingcause', 'deaths, EQUAL, deaths', 'year, EQUAL, year', 'ageadjusteddeathrate, LESS_EQUAL, ageadjusteddeathrate'}), frozenset({'deathrate, GREATER, deathrate', 'leadingcause, EQUAL, leadingcause', 'deaths, EQUAL, deaths', 'sex, UNEQUAL, sex', 'ageadjusteddeathrate, LESS_EQUAL, ageadjusteddeathrate'}), frozenset({'sex, UNEQUAL, sex', 'deathrate, EQUAL, deathrate', 'ageadjusteddeathrate, LESS, ageadjusteddeathrate', 'deaths, EQUAL, deaths'}), frozenset({'deathrate, LESS, deathrate', 'leadingcause, EQUAL, leadingcause', 'year, EQUAL, year', 'ageadjusteddeathrate, EQUAL, ageadjusteddeathrate', 'deaths, GREATER_EQUAL, deaths'}), frozenset({'deathrate, EQUAL, deathrate', 'ageadjusteddeathrate, LESS, ageadjusteddeathrate', 'leadingcause, EQUAL, leadingcause', 'deaths, EQUAL, deaths', 'year, EQUAL, year'}), frozenset({'sex, EQUAL, sex', 'ageadjusteddeathrate, LESS, ageadjusteddeathrate', 'leadingcause, EQUAL, leadingcause', 'deaths, EQUAL, deaths', 'year, EQUAL, year', 'deathrate, LESS_EQUAL, deathrate'}), frozenset({'deathrate, GREATER, deathrate', 'raceethnicity, EQUAL, raceethnicity', 'leadingcause, EQUAL, leadingcause', 'year, EQUAL, year', 'deaths, LESS_EQUAL, deaths', 'ageadjusteddeathrate, LESS_EQUAL, ageadjusteddeathrate'}), frozenset({'deathrate, GREATER_EQUAL, deathrate', 'ageadjusteddeathrate, LESS, ageadjusteddeathrate', 'leadingcause, EQUAL, leadingcause', 'deaths, EQUAL, deaths', 'sex, UNEQUAL, sex'}), frozenset({'deathrate, EQUAL, deathrate', 'leadingcause, EQUAL, leadingcause', 'deaths, EQUAL, deaths', 'ageadjusteddeathrate, GREATER, ageadjusteddeathrate', 'year, EQUAL, year'}), frozenset({'deathrate, EQUAL, deathrate', 'leadingcause, EQUAL, leadingcause', 'year, EQUAL, year', 'ageadjusteddeathrate, GREATER, ageadjusteddeathrate', 'sex, UNEQUAL, sex', 'deaths, GREATER, deaths'}), frozenset({'deathrate, EQUAL, deathrate', 'leadingcause, EQUAL, leadingcause', 'deaths, EQUAL, deaths', 'ageadjusteddeathrate, UNEQUAL, ageadjusteddeathrate', 'year, EQUAL, year'}), frozenset({'deathrate, LESS, deathrate', 'leadingcause, EQUAL, leadingcause', 'year, EQUAL, year', 'ageadjusteddeathrate, EQUAL, ageadjusteddeathrate', 'deaths, GREATER, deaths'}), frozenset({'deathrate, GREATER, deathrate', 'ageadjusteddeathrate, LESS, ageadjusteddeathrate', 'raceethnicity, EQUAL, raceethnicity', 'leadingcause, EQUAL, leadingcause', 'deaths, EQUAL, deaths', 'year, EQUAL, year'}), frozenset({'raceethnicity, EQUAL, raceethnicity', 'leadingcause, EQUAL, leadingcause', 'ageadjusteddeathrate, EQUAL, ageadjusteddeathrate', 'year, EQUAL, year', 'deathrate, UNEQUAL, deathrate'}), frozenset({'deathrate, LESS, deathrate', 'leadingcause, EQUAL, leadingcause', 'raceethnicity, UNEQUAL, raceethnicity', 'ageadjusteddeathrate, GREATER, ageadjusteddeathrate', 'deaths, EQUAL, deaths', 'year, UNEQUAL, year'}), frozenset({'deathrate, LESS, deathrate', 'ageadjusteddeathrate, EQUAL, ageadjusteddeathrate', 'deaths, EQUAL, deaths', 'year, EQUAL, year'}), frozenset({'deathrate, GREATER_EQUAL, deathrate', 'ageadjusteddeathrate, LESS, ageadjusteddeathrate', 'raceethnicity, EQUAL, raceethnicity', 'leadingcause, EQUAL, leadingcause', 'year, EQUAL, year', 'deaths, LESS_EQUAL, deaths'}), frozenset({'sex, EQUAL, sex', 'deathrate, LESS, deathrate', 'raceethnicity, EQUAL, raceethnicity', 'deaths, EQUAL, deaths', 'year, EQUAL, year'}), frozenset({'sex, EQUAL, sex', 'deathrate, EQUAL, deathrate', 'ageadjusteddeathrate, LESS, ageadjusteddeathrate', 'raceethnicity, EQUAL, raceethnicity', 'year, EQUAL, year', 'deaths, GREATER, deaths'}), frozenset({'deathrate, GREATER_EQUAL, deathrate', 'ageadjusteddeathrate, LESS, ageadjusteddeathrate', 'raceethnicity, EQUAL, raceethnicity', 'leadingcause, EQUAL, leadingcause', 'year, EQUAL, year', 'deaths, LESS, deaths'}), frozenset({'ageadjusteddeathrate, GREATER, ageadjusteddeathrate', 'raceethnicity, EQUAL, raceethnicity', 'leadingcause, EQUAL, leadingcause', 'year, EQUAL, year', 'deathrate, LESS_EQUAL, deathrate', 'deaths, GREATER_EQUAL, deaths'}), frozenset({'deathrate, LESS, deathrate', 'deaths, EQUAL, deaths', 'raceethnicity, UNEQUAL, raceethnicity', 'ageadjusteddeathrate, EQUAL, ageadjusteddeathrate'}), frozenset({'deathrate, LESS, deathrate', 'raceethnicity, EQUAL, raceethnicity', 'leadingcause, EQUAL, leadingcause', 'ageadjusteddeathrate, GREATER, ageadjusteddeathrate', 'year, EQUAL, year', 'deaths, GREATER, deaths'}), frozenset({'deathrate, EQUAL, deathrate', 'leadingcause, EQUAL, leadingcause', 'raceethnicity, UNEQUAL, raceethnicity', 'ageadjusteddeathrate, GREATER, ageadjusteddeathrate', 'sex, UNEQUAL, sex', 'deaths, GREATER, deaths'}), frozenset({'sex, EQUAL, sex', 'deathrate, GREATER_EQUAL, deathrate', 'leadingcause, EQUAL, leadingcause', 'deaths, EQUAL, deaths', 'ageadjusteddeathrate, GREATER, ageadjusteddeathrate', 'year, EQUAL, year'}), frozenset({'deathrate, EQUAL, deathrate', 'ageadjusteddeathrate, LESS, ageadjusteddeathrate', 'leadingcause, EQUAL, leadingcause', 'raceethnicity, UNEQUAL, raceethnicity', 'sex, UNEQUAL, sex', 'deaths, LESS, deaths'}), frozenset({'deathrate, LESS, deathrate', 'raceethnicity, EQUAL, raceethnicity', 'leadingcause, EQUAL, leadingcause', 'deaths, EQUAL, deaths', 'year, EQUAL, year', 'ageadjusteddeathrate, GREATER_EQUAL, ageadjusteddeathrate'}), frozenset({'leadingcause, EQUAL, leadingcause', 'raceethnicity, UNEQUAL, raceethnicity', 'ageadjusteddeathrate, GREATER, ageadjusteddeathrate', 'deaths, EQUAL, deaths', 'deathrate, LESS_EQUAL, deathrate', 'year, UNEQUAL, year'}), frozenset({'deathrate, GREATER_EQUAL, deathrate', 'ageadjusteddeathrate, LESS, ageadjusteddeathrate', 'leadingcause, EQUAL, leadingcause', 'raceethnicity, UNEQUAL, raceethnicity', 'deaths, EQUAL, deaths', 'year, UNEQUAL, year'}), frozenset({'deathrate, EQUAL, deathrate', 'ageadjusteddeathrate, LESS, ageadjusteddeathrate', 'leadingcause, EQUAL, leadingcause', 'year, EQUAL, year', 'sex, UNEQUAL, sex', 'deaths, LESS_EQUAL, deaths'}), frozenset({'deathrate, GREATER, deathrate', 'ageadjusteddeathrate, EQUAL, ageadjusteddeathrate', 'deaths, EQUAL, deaths', 'year, EQUAL, year'}), frozenset({'deathrate, LESS, deathrate', 'leadingcause, EQUAL, leadingcause', 'raceethnicity, UNEQUAL, raceethnicity', 'deaths, EQUAL, deaths', 'year, UNEQUAL, year', 'ageadjusteddeathrate, GREATER_EQUAL, ageadjusteddeathrate'}), frozenset({'leadingcause, EQUAL, leadingcause', 'deaths, EQUAL, deaths', 'ageadjusteddeathrate, GREATER, ageadjusteddeathrate', 'deathrate, LESS_EQUAL, deathrate', 'sex, UNEQUAL, sex'}), frozenset({'deathrate, EQUAL, deathrate', 'deaths, EQUAL, deaths', 'ageadjusteddeathrate, LESS, ageadjusteddeathrate', 'raceethnicity, UNEQUAL, raceethnicity'}), frozenset({'sex, EQUAL, sex', 'deathrate, GREATER_EQUAL, deathrate', 'raceethnicity, EQUAL, raceethnicity', 'year, EQUAL, year', 'ageadjusteddeathrate, GREATER, ageadjusteddeathrate', 'deaths, LESS, deaths'}), frozenset({'deathrate, GREATER, deathrate', 'sex, UNEQUAL, sex', 'deaths, EQUAL, deaths', 'ageadjusteddeathrate, EQUAL, ageadjusteddeathrate'}), frozenset({'ageadjusteddeathrate, EQUAL, ageadjusteddeathrate', 'deathrate, UNEQUAL, deathrate', 'deaths, EQUAL, deaths', 'year, EQUAL, year'}), frozenset({'deathrate, LESS, deathrate', 'leadingcause, EQUAL, leadingcause', 'ageadjusteddeathrate, EQUAL, ageadjusteddeathrate', 'sex, UNEQUAL, sex', 'deaths, GREATER, deaths'}), frozenset({'deathrate, GREATER, deathrate', 'ageadjusteddeathrate, LESS, ageadjusteddeathrate', 'raceethnicity, EQUAL, raceethnicity', 'leadingcause, EQUAL, leadingcause', 'year, EQUAL, year', 'deaths, LESS, deaths'}), frozenset({'deathrate, LESS, deathrate', 'raceethnicity, EQUAL, raceethnicity', 'leadingcause, EQUAL, leadingcause', 'ageadjusteddeathrate, GREATER, ageadjusteddeathrate', 'deaths, EQUAL, deaths', 'year, EQUAL, year'}), frozenset({'sex, EQUAL, sex', 'deathrate, LESS, deathrate', 'raceethnicity, EQUAL, raceethnicity', 'ageadjusteddeathrate, EQUAL, ageadjusteddeathrate', 'leadingcause, UNEQUAL, leadingcause', 'deaths, GREATER, deaths'}), frozenset({'sex, EQUAL, sex', 'deathrate, GREATER, deathrate', 'leadingcause, EQUAL, leadingcause', 'deaths, EQUAL, deaths', 'ageadjusteddeathrate, GREATER, ageadjusteddeathrate', 'year, EQUAL, year'}), frozenset({'sex, EQUAL, sex', 'deathrate, LESS, deathrate', 'raceethnicity, EQUAL, raceethnicity', 'year, EQUAL, year', 'deaths, GREATER, deaths'}), frozenset({'deathrate, GREATER, deathrate', 'leadingcause, EQUAL, leadingcause', 'ageadjusteddeathrate, EQUAL, ageadjusteddeathrate', 'sex, UNEQUAL, sex', 'deaths, LESS, deaths'}), frozenset({'deathrate, EQUAL, deathrate', 'leadingcause, EQUAL, leadingcause', 'year, EQUAL, year', 'ageadjusteddeathrate, GREATER, ageadjusteddeathrate', 'sex, UNEQUAL, sex', 'deaths, GREATER_EQUAL, deaths'}), frozenset({'deathrate, LESS, deathrate', 'leadingcause, EQUAL, leadingcause', 'deaths, EQUAL, deaths', 'sex, UNEQUAL, sex', 'ageadjusteddeathrate, GREATER_EQUAL, ageadjusteddeathrate'}), frozenset({'deathrate, GREATER, deathrate', 'raceethnicity, EQUAL, raceethnicity', 'leadingcause, EQUAL, leadingcause', 'year, EQUAL, year', 'deaths, LESS, deaths', 'ageadjusteddeathrate, LESS_EQUAL, ageadjusteddeathrate'}), frozenset({'sex, EQUAL, sex', 'deathrate, LESS, deathrate', 'raceethnicity, EQUAL, raceethnicity', 'year, EQUAL, year', 'deaths, GREATER_EQUAL, deaths'}), frozenset({'deathrate, GREATER, deathrate', 'raceethnicity, EQUAL, raceethnicity', 'leadingcause, EQUAL, leadingcause', 'ageadjusteddeathrate, EQUAL, ageadjusteddeathrate', 'year, EQUAL, year'}), frozenset({'sex, UNEQUAL, sex', 'deathrate, UNEQUAL, deathrate', 'deaths, EQUAL, deaths', 'ageadjusteddeathrate, EQUAL, ageadjusteddeathrate'}), frozenset({'sex, EQUAL, sex', 'deathrate, GREATER, deathrate', 'raceethnicity, EQUAL, raceethnicity', 'year, EQUAL, year', 'deaths, LESS, deaths'}), frozenset({'sex, EQUAL, sex', 'raceethnicity, EQUAL, raceethnicity', 'leadingcause, EQUAL, leadingcause', 'year, EQUAL, year'}), frozenset({'deathrate, GREATER, deathrate', 'leadingcause, EQUAL, leadingcause', 'year, EQUAL, year', 'ageadjusteddeathrate, EQUAL, ageadjusteddeathrate', 'deaths, LESS_EQUAL, deaths'}), frozenset({'deathrate, LESS, deathrate', 'leadingcause, EQUAL, leadingcause', 'deaths, EQUAL, deaths', 'ageadjusteddeathrate, GREATER, ageadjusteddeathrate', 'sex, UNEQUAL, sex'}), frozenset({'deathrate, LESS, deathrate', 'leadingcause, EQUAL, leadingcause', 'ageadjusteddeathrate, EQUAL, ageadjusteddeathrate', 'sex, UNEQUAL, sex', 'deaths, GREATER_EQUAL, deaths'}), frozenset({'sex, EQUAL, sex', 'deathrate, GREATER, deathrate', 'raceethnicity, EQUAL, raceethnicity', 'year, EQUAL, year', 'deaths, LESS_EQUAL, deaths'}), frozenset({'sex, EQUAL, sex', 'raceethnicity, EQUAL, raceethnicity', 'deaths, EQUAL, deaths', 'year, EQUAL, year', 'deathrate, UNEQUAL, deathrate'}), frozenset({'deathrate, LESS, deathrate', 'raceethnicity, EQUAL, raceethnicity', 'leadingcause, EQUAL, leadingcause', 'year, EQUAL, year', 'ageadjusteddeathrate, GREATER_EQUAL, ageadjusteddeathrate', 'deaths, GREATER, deaths'}), frozenset({'sex, EQUAL, sex', 'deathrate, LESS, deathrate', 'leadingcause, EQUAL, leadingcause', 'deaths, EQUAL, deaths', 'year, EQUAL, year', 'ageadjusteddeathrate, LESS_EQUAL, ageadjusteddeathrate'}), frozenset({'deathrate, GREATER_EQUAL, deathrate', 'ageadjusteddeathrate, LESS, ageadjusteddeathrate', 'raceethnicity, EQUAL, raceethnicity', 'leadingcause, EQUAL, leadingcause', 'deaths, EQUAL, deaths', 'year, EQUAL, year'}), frozenset({'ageadjusteddeathrate, GREATER, ageadjusteddeathrate', 'raceethnicity, EQUAL, raceethnicity', 'leadingcause, EQUAL, leadingcause', 'year, EQUAL, year', 'deaths, EQUAL, deaths', 'deathrate, LESS_EQUAL, deathrate'}), frozenset({'sex, UNEQUAL, sex', 'deathrate, LESS, deathrate', 'deaths, EQUAL, deaths', 'ageadjusteddeathrate, EQUAL, ageadjusteddeathrate'}), frozenset({'deathrate, GREATER, deathrate', 'ageadjusteddeathrate, LESS, ageadjusteddeathrate', 'raceethnicity, EQUAL, raceethnicity', 'leadingcause, EQUAL, leadingcause', 'year, EQUAL, year', 'deaths, LESS_EQUAL, deaths'}), frozenset({'sex, UNEQUAL, sex', 'deathrate, EQUAL, deathrate', 'deaths, EQUAL, deaths', 'ageadjusteddeathrate, UNEQUAL, ageadjusteddeathrate'}), frozenset({'sex, EQUAL, sex', 'deathrate, LESS, deathrate', 'ageadjusteddeathrate, LESS, ageadjusteddeathrate', 'leadingcause, EQUAL, leadingcause', 'deaths, EQUAL, deaths', 'year, EQUAL, year'}), frozenset({'sex, EQUAL, sex', 'deathrate, GREATER, deathrate', 'leadingcause, EQUAL, leadingcause', 'deaths, EQUAL, deaths', 'year, EQUAL, year', 'ageadjusteddeathrate, GREATER_EQUAL, ageadjusteddeathrate'}), frozenset({'deathrate, GREATER, deathrate', 'leadingcause, EQUAL, leadingcause', 'year, EQUAL, year', 'ageadjusteddeathrate, EQUAL, ageadjusteddeathrate', 'deaths, LESS, deaths'}), frozenset({'deaths, EQUAL, deaths', 'deathrate, UNEQUAL, deathrate', 'raceethnicity, UNEQUAL, raceethnicity', 'ageadjusteddeathrate, EQUAL, ageadjusteddeathrate'}), frozenset({'sex, EQUAL, sex', 'deathrate, EQUAL, deathrate', 'raceethnicity, EQUAL, raceethnicity', 'year, EQUAL, year', 'ageadjusteddeathrate, GREATER, ageadjusteddeathrate', 'deaths, LESS, deaths'}), frozenset({'deathrate, GREATER, deathrate', 'deaths, EQUAL, deaths', 'raceethnicity, UNEQUAL, raceethnicity', 'ageadjusteddeathrate, EQUAL, ageadjusteddeathrate'}), frozenset({'sex, EQUAL, sex', 'ageadjusteddeathrate, LESS, ageadjusteddeathrate', 'raceethnicity, EQUAL, raceethnicity', 'deathrate, LESS_EQUAL, deathrate', 'year, EQUAL, year', 'deaths, GREATER, deaths'}), frozenset({'deathrate, GREATER, deathrate', 'ageadjusteddeathrate, LESS, ageadjusteddeathrate', 'leadingcause, EQUAL, leadingcause', 'raceethnicity, UNEQUAL, raceethnicity', 'deaths, EQUAL, deaths', 'year, UNEQUAL, year'}), frozenset({'deathrate, EQUAL, deathrate', 'deaths, EQUAL, deaths', 'raceethnicity, UNEQUAL, raceethnicity', 'ageadjusteddeathrate, GREATER, ageadjusteddeathrate'}), frozenset({'deathrate, EQUAL, deathrate', 'deaths, EQUAL, deaths', 'raceethnicity, UNEQUAL, raceethnicity', 'ageadjusteddeathrate, UNEQUAL, ageadjusteddeathrate'}), frozenset({'sex, EQUAL, sex', 'deathrate, GREATER, deathrate', 'raceethnicity, EQUAL, raceethnicity', 'deaths, EQUAL, deaths', 'year, EQUAL, year'}), frozenset({'deathrate, EQUAL, deathrate', 'ageadjusteddeathrate, LESS, ageadjusteddeathrate', 'raceethnicity, EQUAL, raceethnicity', 'leadingcause, EQUAL, leadingcause', 'year, EQUAL, year'})}\n"
     ]
    }
   ],
   "source": [
    "# Example usage:\n",
    "with open(\"../nycdeathsdc\", \"r\") as file:\n",
    "    content = file.read()\n",
    "\n",
    "with open(\"../nycdeathsdc_shuff\", \"r\") as file:\n",
    "    content_shuffled = file.read()\n",
    "    \n",
    "dcs = parse_nycdeaths_dc(content)\n",
    "dcs_shuffled = parse_nycdeaths_dc(content_shuffled)\n",
    "dc_set = get_dc_set(dcs)\n",
    "dc_set_shuffled = get_dc_set(dcs_shuffled)\n",
    "\n",
    "print(dc_set)"
   ]
  }
 ],
 "metadata": {
  "kernelspec": {
   "display_name": "base",
   "language": "python",
   "name": "python3"
  },
  "language_info": {
   "codemirror_mode": {
    "name": "ipython",
    "version": 3
   },
   "file_extension": ".py",
   "mimetype": "text/x-python",
   "name": "python",
   "nbconvert_exporter": "python",
   "pygments_lexer": "ipython3",
   "version": "3.12.7"
  }
 },
 "nbformat": 4,
 "nbformat_minor": 2
}
