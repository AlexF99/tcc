{
 "cells": [
  {
   "cell_type": "code",
   "execution_count": 40,
   "id": "eecb3cec",
   "metadata": {},
   "outputs": [],
   "source": [
    "import pandas as pd\n",
    "from get_dataframes import get_global_df, get_thresholds_df\n",
    "pd.set_option('display.max_colwidth', None)\n"
   ]
  },
  {
   "cell_type": "code",
   "execution_count": 41,
   "id": "d5a6544b",
   "metadata": {},
   "outputs": [
    {
     "name": "stdout",
     "output_type": "stream",
     "text": [
      "['adult', 'hate_crimes', 'iris', 'leading_causes_of_death', 'ncvoter', 'sisu_ufpr_curitiba_politecnico', 'wifi_hotspot_location']\n",
      "['0.001', '0.01', '0.05', '0.1', '0.15']\n"
     ]
    },
    {
     "data": {
      "text/html": [
       "<div>\n",
       "<style scoped>\n",
       "    .dataframe tbody tr th:only-of-type {\n",
       "        vertical-align: middle;\n",
       "    }\n",
       "\n",
       "    .dataframe tbody tr th {\n",
       "        vertical-align: top;\n",
       "    }\n",
       "\n",
       "    .dataframe thead th {\n",
       "        text-align: right;\n",
       "    }\n",
       "</style>\n",
       "<table border=\"1\" class=\"dataframe\">\n",
       "  <thead>\n",
       "    <tr style=\"text-align: right;\">\n",
       "      <th></th>\n",
       "      <th>threshold</th>\n",
       "      <th>dataset</th>\n",
       "      <th>lhs_size</th>\n",
       "      <th>fd</th>\n",
       "      <th>rfi_prime_plus</th>\n",
       "      <th>mu_plus</th>\n",
       "      <th>g3_prime</th>\n",
       "    </tr>\n",
       "  </thead>\n",
       "  <tbody>\n",
       "    <tr>\n",
       "      <th>0</th>\n",
       "      <td>0.001</td>\n",
       "      <td>adult</td>\n",
       "      <td>1</td>\n",
       "      <td>['fnlwgt']-&gt;Education-num</td>\n",
       "      <td>0.002816</td>\n",
       "      <td>0.002644</td>\n",
       "      <td>0.204082</td>\n",
       "    </tr>\n",
       "    <tr>\n",
       "      <th>1</th>\n",
       "      <td>0.001</td>\n",
       "      <td>adult</td>\n",
       "      <td>1</td>\n",
       "      <td>['fnlwgt']-&gt;Capital-loss</td>\n",
       "      <td>0.000000</td>\n",
       "      <td>0.000000</td>\n",
       "      <td>0.877551</td>\n",
       "    </tr>\n",
       "    <tr>\n",
       "      <th>2</th>\n",
       "      <td>0.001</td>\n",
       "      <td>adult</td>\n",
       "      <td>1</td>\n",
       "      <td>['fnlwgt']-&gt;education</td>\n",
       "      <td>0.002816</td>\n",
       "      <td>0.002644</td>\n",
       "      <td>0.204082</td>\n",
       "    </tr>\n",
       "    <tr>\n",
       "      <th>3</th>\n",
       "      <td>0.001</td>\n",
       "      <td>adult</td>\n",
       "      <td>1</td>\n",
       "      <td>['fnlwgt']-&gt;sex</td>\n",
       "      <td>0.888286</td>\n",
       "      <td>0.890063</td>\n",
       "      <td>0.959184</td>\n",
       "    </tr>\n",
       "    <tr>\n",
       "      <th>4</th>\n",
       "      <td>0.001</td>\n",
       "      <td>adult</td>\n",
       "      <td>1</td>\n",
       "      <td>['fnlwgt']-&gt;race</td>\n",
       "      <td>0.895712</td>\n",
       "      <td>0.898654</td>\n",
       "      <td>0.979592</td>\n",
       "    </tr>\n",
       "    <tr>\n",
       "      <th>...</th>\n",
       "      <td>...</td>\n",
       "      <td>...</td>\n",
       "      <td>...</td>\n",
       "      <td>...</td>\n",
       "      <td>...</td>\n",
       "      <td>...</td>\n",
       "      <td>...</td>\n",
       "    </tr>\n",
       "    <tr>\n",
       "      <th>18479</th>\n",
       "      <td>0.01</td>\n",
       "      <td>wifi_hotspot_location</td>\n",
       "      <td>4</td>\n",
       "      <td>['Borough Name', 'Location_T', 'SSID', 'SourceID']-&gt;Y</td>\n",
       "      <td>0.878575</td>\n",
       "      <td>0.000000</td>\n",
       "      <td>0.764622</td>\n",
       "    </tr>\n",
       "    <tr>\n",
       "      <th>18480</th>\n",
       "      <td>0.01</td>\n",
       "      <td>wifi_hotspot_location</td>\n",
       "      <td>4</td>\n",
       "      <td>['Borough Name', 'Location_T', 'Remarks', 'SourceID']-&gt;Y</td>\n",
       "      <td>0.878575</td>\n",
       "      <td>0.000000</td>\n",
       "      <td>0.709507</td>\n",
       "    </tr>\n",
       "    <tr>\n",
       "      <th>18481</th>\n",
       "      <td>0.01</td>\n",
       "      <td>wifi_hotspot_location</td>\n",
       "      <td>5</td>\n",
       "      <td>['Activated', 'Borough', 'Location_T', 'Remarks', 'SSID']-&gt;Y</td>\n",
       "      <td>0.471079</td>\n",
       "      <td>0.002486</td>\n",
       "      <td>0.234836</td>\n",
       "    </tr>\n",
       "    <tr>\n",
       "      <th>18482</th>\n",
       "      <td>0.01</td>\n",
       "      <td>wifi_hotspot_location</td>\n",
       "      <td>5</td>\n",
       "      <td>['Activated', 'BoroCode', 'Location_T', 'Remarks', 'SSID']-&gt;Y</td>\n",
       "      <td>0.471079</td>\n",
       "      <td>0.002486</td>\n",
       "      <td>0.234836</td>\n",
       "    </tr>\n",
       "    <tr>\n",
       "      <th>18483</th>\n",
       "      <td>0.01</td>\n",
       "      <td>wifi_hotspot_location</td>\n",
       "      <td>4</td>\n",
       "      <td>['BIN', 'Location_T', 'Remarks', 'Type']-&gt;Y</td>\n",
       "      <td>0.653567</td>\n",
       "      <td>0.000000</td>\n",
       "      <td>0.348634</td>\n",
       "    </tr>\n",
       "  </tbody>\n",
       "</table>\n",
       "<p>18484 rows × 7 columns</p>\n",
       "</div>"
      ],
      "text/plain": [
       "      threshold                dataset lhs_size  \\\n",
       "0         0.001                  adult        1   \n",
       "1         0.001                  adult        1   \n",
       "2         0.001                  adult        1   \n",
       "3         0.001                  adult        1   \n",
       "4         0.001                  adult        1   \n",
       "...         ...                    ...      ...   \n",
       "18479      0.01  wifi_hotspot_location        4   \n",
       "18480      0.01  wifi_hotspot_location        4   \n",
       "18481      0.01  wifi_hotspot_location        5   \n",
       "18482      0.01  wifi_hotspot_location        5   \n",
       "18483      0.01  wifi_hotspot_location        4   \n",
       "\n",
       "                                                                  fd  \\\n",
       "0                                          ['fnlwgt']->Education-num   \n",
       "1                                           ['fnlwgt']->Capital-loss   \n",
       "2                                              ['fnlwgt']->education   \n",
       "3                                                    ['fnlwgt']->sex   \n",
       "4                                                   ['fnlwgt']->race   \n",
       "...                                                              ...   \n",
       "18479          ['Borough Name', 'Location_T', 'SSID', 'SourceID']->Y   \n",
       "18480       ['Borough Name', 'Location_T', 'Remarks', 'SourceID']->Y   \n",
       "18481   ['Activated', 'Borough', 'Location_T', 'Remarks', 'SSID']->Y   \n",
       "18482  ['Activated', 'BoroCode', 'Location_T', 'Remarks', 'SSID']->Y   \n",
       "18483                    ['BIN', 'Location_T', 'Remarks', 'Type']->Y   \n",
       "\n",
       "       rfi_prime_plus   mu_plus  g3_prime  \n",
       "0            0.002816  0.002644  0.204082  \n",
       "1            0.000000  0.000000  0.877551  \n",
       "2            0.002816  0.002644  0.204082  \n",
       "3            0.888286  0.890063  0.959184  \n",
       "4            0.895712  0.898654  0.979592  \n",
       "...               ...       ...       ...  \n",
       "18479        0.878575  0.000000  0.764622  \n",
       "18480        0.878575  0.000000  0.709507  \n",
       "18481        0.471079  0.002486  0.234836  \n",
       "18482        0.471079  0.002486  0.234836  \n",
       "18483        0.653567  0.000000  0.348634  \n",
       "\n",
       "[18484 rows x 7 columns]"
      ]
     },
     "execution_count": 41,
     "metadata": {},
     "output_type": "execute_result"
    }
   ],
   "source": [
    "# parameters\n",
    "dataset = 'wifi_hotspot_location'\n",
    "# dataset = 'ncvoter'\n",
    "# dataset = 'hate_crimes'\n",
    "# dataset = 'sisu_ufpr_curitiba_politecnico'\n",
    "# dataset = 'adult'\n",
    "# dataset = 'iris'\n",
    "\n",
    "\n",
    "\n",
    "# sort_by = 'rfi_prime_plus'\n",
    "sort_by = 'mu_plus'\n",
    "# sort_by = 'g3_prime'\n",
    "results_path = \"../../../experiments/final_experiments\"\n",
    "# results_path = \"../../../experiments/12-05-2025\"\n",
    "\n",
    "# global_df = get_global_df(results_path=results_path)\n",
    "global_df = get_thresholds_df(results_path=\"../metrics_results\")\n",
    "\n",
    "global_df\n"
   ]
  },
  {
   "cell_type": "code",
   "execution_count": 42,
   "id": "9c61cfdf",
   "metadata": {},
   "outputs": [],
   "source": [
    "# hyfd_df = global_df[global_df['algorithm'] == 'hyfd']\n",
    "# hyfd_df = hyfd_df[hyfd_df['dataset'] == dataset]\n",
    "# # Filter out rows where any metrics are 1.0\n",
    "# # hyfd_df = hyfd_df[~((hyfd_df['rfi_prime_plus'] == 1.0) & \n",
    "# #                     (hyfd_df['mu_plus'] == 1.0) & \n",
    "# #                     (hyfd_df['g3_prime'] == 1.0))]\n",
    "# # Sort by mu_plus in descending order\n",
    "# hyfd_df = hyfd_df.sort_values(by=sort_by, ascending=False)\n",
    "# hyfd_df.head(50)\n",
    "# # hyfd_df\n",
    "\n",
    "# # global_df"
   ]
  },
  {
   "cell_type": "code",
   "execution_count": 43,
   "id": "5ca15bcd",
   "metadata": {},
   "outputs": [],
   "source": [
    "# fdx_df = global_df[global_df['algorithm'] == 'fdx']\n",
    "# fdx_df = fdx_df[fdx_df['dataset'] == dataset]\n",
    "# # Sort by mu_plus in descending order\n",
    "# fdx_df = fdx_df.sort_values(by=sort_by, ascending=False)\n",
    "# fdx_df[['rfi_prime_plus', 'mu_plus', 'g3_prime']] = fdx_df[['rfi_prime_plus', 'mu_plus', 'g3_prime']].applymap(lambda x: f\"{x:.3f}\")\n",
    "# fdx_df[['fd', 'mu_plus', 'rfi_prime_plus', 'g3_prime']].head(50).to_csv(f\"rank_mu_fdx_{dataset}.csv\", index=False)\n",
    "# fdx_df.head(50)\n",
    "\n",
    "# # global_df"
   ]
  },
  {
   "cell_type": "code",
   "execution_count": 44,
   "id": "5478b628",
   "metadata": {},
   "outputs": [
    {
     "name": "stderr",
     "output_type": "stream",
     "text": [
      "/tmp/ipykernel_7500/1449751700.py:7: FutureWarning: DataFrame.applymap has been deprecated. Use DataFrame.map instead.\n",
      "  pyro_df[['rfi_prime_plus', 'mu_plus', 'g3_prime']] = pyro_df[['rfi_prime_plus', 'mu_plus', 'g3_prime']].applymap(lambda x: f\"{x:.3f}\")\n"
     ]
    }
   ],
   "source": [
    "# pyro_df = global_df[global_df['algorithm'] == 'pyro']\n",
    "pyro_df = global_df\n",
    "pyro_df = pyro_df[pyro_df['dataset'] == dataset]\n",
    "# Sort by mu_plus in descending order\n",
    "pyro_df = pyro_df.sort_values(by=[sort_by, 'lhs_size'], ascending=[False, True])\n",
    "# pyro_df = pyro_df.sort_values(by=[sort_by, 'lhs_size'], ascending=[False, True])\n",
    "pyro_df[['rfi_prime_plus', 'mu_plus', 'g3_prime']] = pyro_df[['rfi_prime_plus', 'mu_plus', 'g3_prime']].applymap(lambda x: f\"{x:.3f}\")\n",
    "\n",
    "# pyro_df.head(30)[['fd', 'mu_plus', 'rfi_prime_plus', 'g3_prime']].to_csv(f\"rank_mu_pyro_{dataset}.csv\", index=False)\n",
    "pyro_df.to_csv(f\"rank_thresholds_{dataset}.csv\", index=False)\n",
    "# pyro_df.size\n",
    "\n",
    "# pyro_df\n",
    "# global_df"
   ]
  },
  {
   "cell_type": "code",
   "execution_count": 45,
   "id": "5becbec4",
   "metadata": {},
   "outputs": [
    {
     "ename": "NameError",
     "evalue": "name 'hyfd_df' is not defined",
     "output_type": "error",
     "traceback": [
      "\u001b[0;31m---------------------------------------------------------------------------\u001b[0m",
      "\u001b[0;31mNameError\u001b[0m                                 Traceback (most recent call last)",
      "Cell \u001b[0;32mIn[45], line 2\u001b[0m\n\u001b[1;32m      1\u001b[0m \u001b[38;5;66;03m# Get the top 40 FDs from each algorithm\u001b[39;00m\n\u001b[0;32m----> 2\u001b[0m top_hyfd \u001b[38;5;241m=\u001b[39m \u001b[38;5;28mset\u001b[39m(hyfd_df\u001b[38;5;241m.\u001b[39mhead(\u001b[38;5;241m1000\u001b[39m)[\u001b[38;5;124m'\u001b[39m\u001b[38;5;124mfd\u001b[39m\u001b[38;5;124m'\u001b[39m])\n\u001b[1;32m      3\u001b[0m top_fdx \u001b[38;5;241m=\u001b[39m \u001b[38;5;28mset\u001b[39m(fdx_df\u001b[38;5;241m.\u001b[39mhead(\u001b[38;5;241m1000\u001b[39m)[\u001b[38;5;124m'\u001b[39m\u001b[38;5;124mfd\u001b[39m\u001b[38;5;124m'\u001b[39m])\n\u001b[1;32m      4\u001b[0m top_pyro \u001b[38;5;241m=\u001b[39m \u001b[38;5;28mset\u001b[39m(pyro_df\u001b[38;5;241m.\u001b[39mhead(\u001b[38;5;241m1000\u001b[39m)[\u001b[38;5;124m'\u001b[39m\u001b[38;5;124mfd\u001b[39m\u001b[38;5;124m'\u001b[39m])\n",
      "\u001b[0;31mNameError\u001b[0m: name 'hyfd_df' is not defined"
     ]
    }
   ],
   "source": [
    "# Get the top 40 FDs from each algorithm\n",
    "top_hyfd = set(hyfd_df.head(1000)['fd'])\n",
    "top_fdx = set(fdx_df.head(1000)['fd'])\n",
    "top_pyro = set(pyro_df.head(1000)['fd'])\n",
    "\n"
   ]
  },
  {
   "cell_type": "code",
   "execution_count": 286,
   "id": "4f441c10",
   "metadata": {},
   "outputs": [
    {
     "data": {
      "text/plain": [
       "[\"['NU_NOTACORTE']->TP_MOD_CONCORRENCIA\"]"
      ]
     },
     "execution_count": 286,
     "metadata": {},
     "output_type": "execute_result"
    }
   ],
   "source": [
    "list(top_fdx.intersection(top_pyro))\n"
   ]
  },
  {
   "cell_type": "code",
   "execution_count": 287,
   "id": "a42229f7",
   "metadata": {},
   "outputs": [
    {
     "data": {
      "text/plain": [
       "[\"['NU_NOTACORTE']->TP_MOD_CONCORRENCIA\"]"
      ]
     },
     "execution_count": 287,
     "metadata": {},
     "output_type": "execute_result"
    }
   ],
   "source": [
    "list(top_hyfd.intersection(top_fdx))"
   ]
  },
  {
   "cell_type": "code",
   "execution_count": 288,
   "id": "3668aa8b",
   "metadata": {},
   "outputs": [
    {
     "data": {
      "text/plain": [
       "[\"['NU_CPF']->SG_UF_CANDIDATO\",\n",
       " \"['NU_NOTACORTE']->DS_TURNO\",\n",
       " \"['NU_NOTACORTE']->DS_GRAU\",\n",
       " \"['NU_CPF']->MUNICIPIO_CANDIDATO\",\n",
       " \"['NU_NOTACORTE']->TP_MOD_CONCORRENCIA\",\n",
       " \"['NU_NOTACORTE']->NO_CURSO\",\n",
       " \"['NO_INSCRITO']->TP_SEXO\",\n",
       " \"['NU_CPF']->TP_MOD_CONCORRENCIA\",\n",
       " \"['NU_NOTACORTE']->CO_IES_CURSO\",\n",
       " \"['CO_IES_CURSO']->DS_GRAU\",\n",
       " \"['CO_IES_CURSO']->NO_CURSO\",\n",
       " \"['NO_INSCRITO']->SG_UF_CANDIDATO\",\n",
       " \"['NO_INSCRITO']->ST_OPCAO\"]"
      ]
     },
     "execution_count": 288,
     "metadata": {},
     "output_type": "execute_result"
    }
   ],
   "source": [
    "list(top_hyfd.intersection(top_pyro))"
   ]
  },
  {
   "cell_type": "code",
   "execution_count": 289,
   "id": "2520c991",
   "metadata": {},
   "outputs": [
    {
     "name": "stdout",
     "output_type": "stream",
     "text": [
      "Number of common FDs across all three algorithms: 0\n",
      "\n",
      "Pairwise intersections:\n",
      "HyFD and FDX: 0 common FDs\n",
      "HyFD and Pyro: 1 common FDs\n",
      "FDX and Pyro: 1 common FDs\n",
      "\n",
      "Sample FDs common between HyFD and Pyro:\n",
      "  - ['NU_CPF']->MUNICIPIO_CANDIDATO\n",
      "\n",
      "Sample FDs common between FDX and Pyro:\n",
      "  - ['NU_NOTACORTE']->TP_MOD_CONCORRENCIA\n"
     ]
    }
   ],
   "source": [
    "# Get the top 40 FDs from each algorithm\n",
    "top_hyfd = set(hyfd_df.head(100)['fd'])\n",
    "top_fdx = set(fdx_df.head(40)['fd'])\n",
    "top_pyro = set(pyro_df.head(40)['fd'])\n",
    "\n",
    "# Find the intersection of FDs that appear in all three algorithm results\n",
    "common_fds = top_hyfd.intersection(top_fdx, top_pyro)\n",
    "\n",
    "print(f\"Number of common FDs across all three algorithms: {len(common_fds)}\")\n",
    "if len(common_fds) > 0:\n",
    "    print(\"\\nCommon FDs:\")\n",
    "    for fd in common_fds:\n",
    "        print(f\"  - {fd}\")\n",
    "    \n",
    "    # Create a dataframe with the common FDs and their metrics from each algorithm\n",
    "    common_df = pd.DataFrame(columns=['fd', 'hyfd_mu', 'fdx_mu', 'pyro_mu', \n",
    "                                     'hyfd_rfi', 'fdx_rfi', 'pyro_rfi',\n",
    "                                     'hyfd_g3', 'fdx_g3', 'pyro_g3'])\n",
    "    \n",
    "    for fd in common_fds:\n",
    "        hyfd_row = hyfd_df[hyfd_df['fd'] == fd].iloc[0]\n",
    "        fdx_row = fdx_df[fdx_df['fd'] == fd].iloc[0]\n",
    "        pyro_row = pyro_df[pyro_df['fd'] == fd].iloc[0]\n",
    "        \n",
    "        common_df = common_df.append({\n",
    "            'fd': fd,\n",
    "            'hyfd_mu': hyfd_row['mu_plus'],\n",
    "            'fdx_mu': fdx_row['mu_plus'],\n",
    "            'pyro_mu': pyro_row['mu_plus'],\n",
    "            'hyfd_rfi': hyfd_row['rfi_prime_plus'],\n",
    "            'fdx_rfi': fdx_row['rfi_prime_plus'],\n",
    "            'pyro_rfi': pyro_row['rfi_prime_plus'],\n",
    "            'hyfd_g3': hyfd_row['g3_prime'],\n",
    "            'fdx_g3': fdx_row['g3_prime'],\n",
    "            'pyro_g3': pyro_row['g3_prime']\n",
    "        }, ignore_index=True)\n",
    "    \n",
    "    # Display the common FDs with their metrics\n",
    "    common_df.sort_values(by='hyfd_mu', ascending=False)\n",
    "else:\n",
    "    # If there are no common FDs, find pairwise intersections\n",
    "    hyfd_fdx = top_hyfd.intersection(top_fdx)\n",
    "    hyfd_pyro = top_hyfd.intersection(top_pyro)\n",
    "    fdx_pyro = top_fdx.intersection(top_pyro)\n",
    "    \n",
    "    print(\"\\nPairwise intersections:\")\n",
    "    print(f\"HyFD and FDX: {len(hyfd_fdx)} common FDs\")\n",
    "    print(f\"HyFD and Pyro: {len(hyfd_pyro)} common FDs\")\n",
    "    print(f\"FDX and Pyro: {len(fdx_pyro)} common FDs\")\n",
    "    \n",
    "    # Display a few examples from each intersection if they exist\n",
    "    if len(hyfd_fdx) > 0:\n",
    "        print(\"\\nSample FDs common between HyFD and FDX:\")\n",
    "        for fd in list(hyfd_fdx)[:5]:\n",
    "            print(f\"  - {fd}\")\n",
    "    \n",
    "    if len(hyfd_pyro) > 0:\n",
    "        print(\"\\nSample FDs common between HyFD and Pyro:\")\n",
    "        for fd in list(hyfd_pyro)[:5]:\n",
    "            print(f\"  - {fd}\")\n",
    "    \n",
    "    if len(fdx_pyro) > 0:\n",
    "        print(\"\\nSample FDs common between FDX and Pyro:\")\n",
    "        for fd in list(fdx_pyro)[:5]:\n",
    "            print(f\"  - {fd}\")\n"
   ]
  }
 ],
 "metadata": {
  "kernelspec": {
   "display_name": "base",
   "language": "python",
   "name": "python3"
  },
  "language_info": {
   "codemirror_mode": {
    "name": "ipython",
    "version": 3
   },
   "file_extension": ".py",
   "mimetype": "text/x-python",
   "name": "python",
   "nbconvert_exporter": "python",
   "pygments_lexer": "ipython3",
   "version": "3.12.2"
  }
 },
 "nbformat": 4,
 "nbformat_minor": 5
}
