{
 "cells": [
  {
   "cell_type": "code",
   "execution_count": null,
   "metadata": {},
   "outputs": [],
   "source": [
    "def get_dc_set(content):\n",
    "    \"\"\"Convert list of DCs into a set of frozensets of predicates for comparison.\"\"\"\n",
    "    dcset = set()\n",
    "\n",
    "    for line in content.split(\"\\n\"):\n",
    "        if \"t1\" in line:\n",
    "            dcpredicates = line.replace(\"not(\", \"\").replace(\")\", \"\").split(\" and \")\n",
    "            pred_set = frozenset(dcpredicates)\n",
    "            dcset.add(pred_set)\n",
    "\n",
    "    return dcset"
   ]
  },
  {
   "cell_type": "code",
   "execution_count": null,
   "metadata": {},
   "outputs": [
    {
     "name": "stdout",
     "output_type": "stream",
     "text": [
      "clean:\n",
      "1524\n",
      "dirty:\n",
      "591\n",
      "length of intersection: 53\n"
     ]
    }
   ],
   "source": [
    "# Example usage:\n",
    "with open(\"../queens\", \"r\") as file:\n",
    "    content = file.read()\n",
    "\n",
    "with open(\"../queens_shuff\", \"r\") as file:\n",
    "    content_shuffled = file.read()\n",
    "\n",
    "\n",
    "clean_dc_set = get_dc_set(content)\n",
    "dirty_dc_set = get_dc_set(content_shuffled)\n",
    "\n",
    "print(\"clean:\")\n",
    "print(len(clean_dc_set))\n",
    "\n",
    "print(\"dirty:\")\n",
    "print(len(dirty_dc_set))\n",
    "\n",
    "len(clean_dc_set - dirty_dc_set)\n",
    "\n",
    "intersection = clean_dc_set.intersection(dirty_dc_set)\n",
    "\n",
    "print(\"length of intersection:\", len(intersection))"
   ]
  }
 ],
 "metadata": {
  "kernelspec": {
   "display_name": "base",
   "language": "python",
   "name": "python3"
  },
  "language_info": {
   "codemirror_mode": {
    "name": "ipython",
    "version": 3
   },
   "file_extension": ".py",
   "mimetype": "text/x-python",
   "name": "python",
   "nbconvert_exporter": "python",
   "pygments_lexer": "ipython3",
   "version": "3.12.7"
  }
 },
 "nbformat": 4,
 "nbformat_minor": 2
}
