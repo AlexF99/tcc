{
 "cells": [
  {
   "cell_type": "code",
   "execution_count": 44,
   "metadata": {},
   "outputs": [],
   "source": [
    "def get_candidates(content):\n",
    "    \"\"\"Convert list of DCs into a set of frozensets of predicates for comparison.\"\"\"\n",
    "    candidates = []\n",
    "\n",
    "    for line in content.split(\"\\n\"):\n",
    "        if \"t1\" in line:\n",
    "            dcpredicates = line.replace(\"not(\", \"\").replace(\")\", \"\").split(\" and \")\n",
    "            n_equal = line.count(\"==\")\n",
    "            if n_equal == len(dcpredicates) - 1:\n",
    "                candidates.append(dcpredicates)\n",
    "\n",
    "    return candidates"
   ]
  },
  {
   "cell_type": "code",
   "execution_count": 45,
   "metadata": {},
   "outputs": [],
   "source": [
    "def dc2fd(dc_list: list):\n",
    "    fds = set()\n",
    "\n",
    "    for dc in dc_list:\n",
    "        left_side = []\n",
    "        right_side = []\n",
    "        for predicate in dc:\n",
    "            attribute = predicate.split(\".\")[-1]\n",
    "            if \"==\" in predicate:\n",
    "                left_side.append(attribute)\n",
    "            else:\n",
    "                right_side.append(attribute)\n",
    "        \n",
    "        left_side.sort()\n",
    "        right_side.sort()\n",
    "        fds.add(f\"{left_side} -> {right_side}\")\n",
    "\n",
    "    return fds\n",
    "    \n",
    "    "
   ]
  },
  {
   "cell_type": "code",
   "execution_count": 46,
   "metadata": {},
   "outputs": [
    {
     "data": {
      "text/plain": [
       "{\"['ageadjusteddeathrate', 'deaths', 'year'] -> ['deathrate']\",\n",
       " \"['ageadjusteddeathrate', 'leadingcause', 'raceethnicity', 'year'] -> ['deathrate']\",\n",
       " \"['deathrate', 'deaths', 'leadingcause', 'year'] -> ['ageadjusteddeathrate']\",\n",
       " \"['deathrate', 'leadingcause', 'raceethnicity', 'year'] -> ['ageadjusteddeathrate']\",\n",
       " \"['deaths', 'raceethnicity', 'sex', 'year'] -> ['deathrate']\"}"
      ]
     },
     "execution_count": 46,
     "metadata": {},
     "output_type": "execute_result"
    }
   ],
   "source": [
    "# Example usage:\n",
    "with open(\"../nycdeathsdc\", \"r\") as file:\n",
    "    content = file.read()\n",
    "candidates = get_candidates(content)\n",
    "\n",
    "dc2fd(candidates)\n"
   ]
  }
 ],
 "metadata": {
  "kernelspec": {
   "display_name": "Python 3",
   "language": "python",
   "name": "python3"
  },
  "language_info": {
   "codemirror_mode": {
    "name": "ipython",
    "version": 3
   },
   "file_extension": ".py",
   "mimetype": "text/x-python",
   "name": "python",
   "nbconvert_exporter": "python",
   "pygments_lexer": "ipython3",
   "version": "3.12.3"
  }
 },
 "nbformat": 4,
 "nbformat_minor": 2
}
